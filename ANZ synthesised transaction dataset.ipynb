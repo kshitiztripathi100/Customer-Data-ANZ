{
 "cells": [
  {
   "cell_type": "code",
   "execution_count": 1,
   "metadata": {},
   "outputs": [],
   "source": [
    "import pandas as pd\n",
    "import datetime as dt\n",
    "import numpy as np\n",
    "import matplotlib.pyplot as plt\n",
    "%matplotlib inline\n",
    "import seaborn as sb"
   ]
  },
  {
   "cell_type": "code",
   "execution_count": 2,
   "metadata": {
    "scrolled": false
   },
   "outputs": [
    {
     "data": {
      "text/html": [
       "<div>\n",
       "<style scoped>\n",
       "    .dataframe tbody tr th:only-of-type {\n",
       "        vertical-align: middle;\n",
       "    }\n",
       "\n",
       "    .dataframe tbody tr th {\n",
       "        vertical-align: top;\n",
       "    }\n",
       "\n",
       "    .dataframe thead th {\n",
       "        text-align: right;\n",
       "    }\n",
       "</style>\n",
       "<table border=\"1\" class=\"dataframe\">\n",
       "  <thead>\n",
       "    <tr style=\"text-align: right;\">\n",
       "      <th></th>\n",
       "      <th>status</th>\n",
       "      <th>card_present_flag</th>\n",
       "      <th>bpay_biller_code</th>\n",
       "      <th>account</th>\n",
       "      <th>currency</th>\n",
       "      <th>long_lat</th>\n",
       "      <th>txn_description</th>\n",
       "      <th>merchant_id</th>\n",
       "      <th>merchant_code</th>\n",
       "      <th>first_name</th>\n",
       "      <th>...</th>\n",
       "      <th>age</th>\n",
       "      <th>merchant_suburb</th>\n",
       "      <th>merchant_state</th>\n",
       "      <th>extraction</th>\n",
       "      <th>amount</th>\n",
       "      <th>transaction_id</th>\n",
       "      <th>country</th>\n",
       "      <th>customer_id</th>\n",
       "      <th>merchant_long_lat</th>\n",
       "      <th>movement</th>\n",
       "    </tr>\n",
       "  </thead>\n",
       "  <tbody>\n",
       "    <tr>\n",
       "      <th>0</th>\n",
       "      <td>authorized</td>\n",
       "      <td>1.0</td>\n",
       "      <td>NaN</td>\n",
       "      <td>ACC-1598451071</td>\n",
       "      <td>AUD</td>\n",
       "      <td>153.41 -27.95</td>\n",
       "      <td>POS</td>\n",
       "      <td>81c48296-73be-44a7-befa-d053f48ce7cd</td>\n",
       "      <td>NaN</td>\n",
       "      <td>Diana</td>\n",
       "      <td>...</td>\n",
       "      <td>26</td>\n",
       "      <td>Ashmore</td>\n",
       "      <td>QLD</td>\n",
       "      <td>2018-08-01T01:01:15.000+0000</td>\n",
       "      <td>16.25</td>\n",
       "      <td>a623070bfead4541a6b0fff8a09e706c</td>\n",
       "      <td>Australia</td>\n",
       "      <td>CUS-2487424745</td>\n",
       "      <td>153.38 -27.99</td>\n",
       "      <td>debit</td>\n",
       "    </tr>\n",
       "    <tr>\n",
       "      <th>1</th>\n",
       "      <td>authorized</td>\n",
       "      <td>0.0</td>\n",
       "      <td>NaN</td>\n",
       "      <td>ACC-1598451071</td>\n",
       "      <td>AUD</td>\n",
       "      <td>153.41 -27.95</td>\n",
       "      <td>SALES-POS</td>\n",
       "      <td>830a451c-316e-4a6a-bf25-e37caedca49e</td>\n",
       "      <td>NaN</td>\n",
       "      <td>Diana</td>\n",
       "      <td>...</td>\n",
       "      <td>26</td>\n",
       "      <td>Sydney</td>\n",
       "      <td>NSW</td>\n",
       "      <td>2018-08-01T01:13:45.000+0000</td>\n",
       "      <td>14.19</td>\n",
       "      <td>13270a2a902145da9db4c951e04b51b9</td>\n",
       "      <td>Australia</td>\n",
       "      <td>CUS-2487424745</td>\n",
       "      <td>151.21 -33.87</td>\n",
       "      <td>debit</td>\n",
       "    </tr>\n",
       "  </tbody>\n",
       "</table>\n",
       "<p>2 rows × 23 columns</p>\n",
       "</div>"
      ],
      "text/plain": [
       "       status  card_present_flag bpay_biller_code         account currency  \\\n",
       "0  authorized                1.0              NaN  ACC-1598451071      AUD   \n",
       "1  authorized                0.0              NaN  ACC-1598451071      AUD   \n",
       "\n",
       "        long_lat txn_description                           merchant_id  \\\n",
       "0  153.41 -27.95             POS  81c48296-73be-44a7-befa-d053f48ce7cd   \n",
       "1  153.41 -27.95       SALES-POS  830a451c-316e-4a6a-bf25-e37caedca49e   \n",
       "\n",
       "   merchant_code first_name  ...  age merchant_suburb merchant_state  \\\n",
       "0            NaN      Diana  ...   26         Ashmore            QLD   \n",
       "1            NaN      Diana  ...   26          Sydney            NSW   \n",
       "\n",
       "                     extraction amount                    transaction_id  \\\n",
       "0  2018-08-01T01:01:15.000+0000  16.25  a623070bfead4541a6b0fff8a09e706c   \n",
       "1  2018-08-01T01:13:45.000+0000  14.19  13270a2a902145da9db4c951e04b51b9   \n",
       "\n",
       "     country     customer_id merchant_long_lat movement  \n",
       "0  Australia  CUS-2487424745     153.38 -27.99    debit  \n",
       "1  Australia  CUS-2487424745     151.21 -33.87    debit  \n",
       "\n",
       "[2 rows x 23 columns]"
      ]
     },
     "execution_count": 2,
     "metadata": {},
     "output_type": "execute_result"
    }
   ],
   "source": [
    "df=pd.read_excel('ANZ synthesised transaction dataset.xlsx')\n",
    "df.head(2)"
   ]
  },
  {
   "cell_type": "code",
   "execution_count": 3,
   "metadata": {},
   "outputs": [],
   "source": [
    "# Before any assessment i am creating a copy of dataset to operate.\n",
    "df_clean=df.copy()"
   ]
  },
  {
   "cell_type": "markdown",
   "metadata": {},
   "source": [
    "### Assessing"
   ]
  },
  {
   "cell_type": "code",
   "execution_count": 4,
   "metadata": {},
   "outputs": [
    {
     "name": "stdout",
     "output_type": "stream",
     "text": [
      "<class 'pandas.core.frame.DataFrame'>\n",
      "RangeIndex: 12043 entries, 0 to 12042\n",
      "Data columns (total 23 columns):\n",
      " #   Column             Non-Null Count  Dtype         \n",
      "---  ------             --------------  -----         \n",
      " 0   status             12043 non-null  object        \n",
      " 1   card_present_flag  7717 non-null   float64       \n",
      " 2   bpay_biller_code   885 non-null    object        \n",
      " 3   account            12043 non-null  object        \n",
      " 4   currency           12043 non-null  object        \n",
      " 5   long_lat           12043 non-null  object        \n",
      " 6   txn_description    12043 non-null  object        \n",
      " 7   merchant_id        7717 non-null   object        \n",
      " 8   merchant_code      883 non-null    float64       \n",
      " 9   first_name         12043 non-null  object        \n",
      " 10  balance            12043 non-null  float64       \n",
      " 11  date               12043 non-null  datetime64[ns]\n",
      " 12  gender             12043 non-null  object        \n",
      " 13  age                12043 non-null  int64         \n",
      " 14  merchant_suburb    7717 non-null   object        \n",
      " 15  merchant_state     7717 non-null   object        \n",
      " 16  extraction         12043 non-null  object        \n",
      " 17  amount             12043 non-null  float64       \n",
      " 18  transaction_id     12043 non-null  object        \n",
      " 19  country            12043 non-null  object        \n",
      " 20  customer_id        12043 non-null  object        \n",
      " 21  merchant_long_lat  7717 non-null   object        \n",
      " 22  movement           12043 non-null  object        \n",
      "dtypes: datetime64[ns](1), float64(4), int64(1), object(17)\n",
      "memory usage: 2.1+ MB\n"
     ]
    }
   ],
   "source": [
    "df_clean.info()"
   ]
  },
  {
   "cell_type": "markdown",
   "metadata": {},
   "source": [
    "As we can see from above information that there are many columns which are empty, or may having the Null Value."
   ]
  },
  {
   "cell_type": "code",
   "execution_count": 5,
   "metadata": {},
   "outputs": [
    {
     "data": {
      "text/plain": [
       "12043"
      ]
     },
     "execution_count": 5,
     "metadata": {},
     "output_type": "execute_result"
    }
   ],
   "source": [
    "len(df_clean.status)"
   ]
  },
  {
   "cell_type": "code",
   "execution_count": 6,
   "metadata": {},
   "outputs": [
    {
     "data": {
      "text/plain": [
       "authorized    7717\n",
       "posted        4326\n",
       "Name: status, dtype: int64"
      ]
     },
     "execution_count": 6,
     "metadata": {},
     "output_type": "execute_result"
    }
   ],
   "source": [
    "df_clean.status.value_counts()"
   ]
  },
  {
   "cell_type": "markdown",
   "metadata": {},
   "source": [
    "As we can see from above data that there only two category for the staus having total value of 12043."
   ]
  },
  {
   "cell_type": "code",
   "execution_count": 7,
   "metadata": {},
   "outputs": [
    {
     "data": {
      "text/plain": [
       "debit     11160\n",
       "credit      883\n",
       "Name: movement, dtype: int64"
      ]
     },
     "execution_count": 7,
     "metadata": {},
     "output_type": "execute_result"
    }
   ],
   "source": [
    "df_clean.movement.value_counts()"
   ]
  },
  {
   "cell_type": "code",
   "execution_count": 8,
   "metadata": {},
   "outputs": [
    {
     "data": {
      "text/plain": [
       "Australia    12043\n",
       "Name: country, dtype: int64"
      ]
     },
     "execution_count": 8,
     "metadata": {},
     "output_type": "execute_result"
    }
   ],
   "source": [
    "df_clean.country.value_counts()"
   ]
  },
  {
   "cell_type": "code",
   "execution_count": 9,
   "metadata": {},
   "outputs": [
    {
     "data": {
      "text/plain": [
       "NSW    2169\n",
       "VIC    2131\n",
       "QLD    1556\n",
       "WA     1100\n",
       "SA      415\n",
       "NT      205\n",
       "ACT      73\n",
       "TAS      68\n",
       "Name: merchant_state, dtype: int64"
      ]
     },
     "execution_count": 9,
     "metadata": {},
     "output_type": "execute_result"
    }
   ],
   "source": [
    "df_clean.merchant_state.value_counts()"
   ]
  },
  {
   "cell_type": "code",
   "execution_count": 10,
   "metadata": {},
   "outputs": [
    {
     "data": {
      "text/plain": [
       "0    2018-08-01T01:01:15.000+0000\n",
       "1    2018-08-01T01:13:45.000+0000\n",
       "Name: extraction, dtype: object"
      ]
     },
     "execution_count": 10,
     "metadata": {},
     "output_type": "execute_result"
    }
   ],
   "source": [
    "# we to convert this column from object to datetime to operate easily.\n",
    "df_clean.extraction.head(2)"
   ]
  },
  {
   "cell_type": "code",
   "execution_count": 11,
   "metadata": {},
   "outputs": [],
   "source": [
    "df_clean['extraction']=pd.to_datetime(df_clean['extraction'])"
   ]
  },
  {
   "cell_type": "code",
   "execution_count": 12,
   "metadata": {},
   "outputs": [
    {
     "data": {
      "text/plain": [
       "datetime64[ns, UTC]"
      ]
     },
     "execution_count": 12,
     "metadata": {},
     "output_type": "execute_result"
    }
   ],
   "source": [
    "df_clean.extraction.dtype"
   ]
  },
  {
   "cell_type": "code",
   "execution_count": 13,
   "metadata": {},
   "outputs": [
    {
     "name": "stdout",
     "output_type": "stream",
     "text": [
      "<class 'pandas.core.frame.DataFrame'>\n",
      "RangeIndex: 12043 entries, 0 to 12042\n",
      "Data columns (total 23 columns):\n",
      " #   Column             Non-Null Count  Dtype              \n",
      "---  ------             --------------  -----              \n",
      " 0   status             12043 non-null  object             \n",
      " 1   card_present_flag  7717 non-null   float64            \n",
      " 2   bpay_biller_code   885 non-null    object             \n",
      " 3   account            12043 non-null  object             \n",
      " 4   currency           12043 non-null  object             \n",
      " 5   long_lat           12043 non-null  object             \n",
      " 6   txn_description    12043 non-null  object             \n",
      " 7   merchant_id        7717 non-null   object             \n",
      " 8   merchant_code      883 non-null    float64            \n",
      " 9   first_name         12043 non-null  object             \n",
      " 10  balance            12043 non-null  float64            \n",
      " 11  date               12043 non-null  datetime64[ns]     \n",
      " 12  gender             12043 non-null  object             \n",
      " 13  age                12043 non-null  int64              \n",
      " 14  merchant_suburb    7717 non-null   object             \n",
      " 15  merchant_state     7717 non-null   object             \n",
      " 16  extraction         12043 non-null  datetime64[ns, UTC]\n",
      " 17  amount             12043 non-null  float64            \n",
      " 18  transaction_id     12043 non-null  object             \n",
      " 19  country            12043 non-null  object             \n",
      " 20  customer_id        12043 non-null  object             \n",
      " 21  merchant_long_lat  7717 non-null   object             \n",
      " 22  movement           12043 non-null  object             \n",
      "dtypes: datetime64[ns, UTC](1), datetime64[ns](1), float64(4), int64(1), object(16)\n",
      "memory usage: 2.1+ MB\n"
     ]
    }
   ],
   "source": [
    "df_clean.info()"
   ]
  },
  {
   "cell_type": "markdown",
   "metadata": {},
   "source": [
    "As we can see from the above information that the dtype of extraction changed to datetime."
   ]
  },
  {
   "cell_type": "code",
   "execution_count": 14,
   "metadata": {},
   "outputs": [
    {
     "data": {
      "text/plain": [
       "True     11943\n",
       "False      100\n",
       "Name: customer_id, dtype: int64"
      ]
     },
     "execution_count": 14,
     "metadata": {},
     "output_type": "execute_result"
    }
   ],
   "source": [
    "df_clean.customer_id.duplicated().value_counts()"
   ]
  },
  {
   "cell_type": "code",
   "execution_count": 15,
   "metadata": {},
   "outputs": [
    {
     "data": {
      "text/plain": [
       "ACC-1598451071    578\n",
       "ACC-1222300524    303\n",
       "ACC-182446574     292\n",
       "ACC-4258502723    260\n",
       "ACC-1037050564    259\n",
       "                 ... \n",
       "ACC-1998563091     40\n",
       "ACC-3881031190     37\n",
       "ACC-721712940      34\n",
       "ACC-4059612845     31\n",
       "ACC-1217063613     25\n",
       "Name: account, Length: 100, dtype: int64"
      ]
     },
     "execution_count": 15,
     "metadata": {},
     "output_type": "execute_result"
    }
   ],
   "source": [
    "df_clean.account.value_counts()"
   ]
  },
  {
   "cell_type": "code",
   "execution_count": 16,
   "metadata": {},
   "outputs": [
    {
     "data": {
      "text/plain": [
       "26    893\n",
       "38    767\n",
       "20    765\n",
       "21    733\n",
       "24    732\n",
       "40    704\n",
       "19    693\n",
       "34    537\n",
       "25    515\n",
       "30    499\n",
       "43    473\n",
       "35    444\n",
       "27    443\n",
       "18    442\n",
       "28    414\n",
       "22    399\n",
       "23    309\n",
       "39    283\n",
       "37    276\n",
       "31    255\n",
       "42    232\n",
       "44    160\n",
       "46    153\n",
       "33    139\n",
       "29    134\n",
       "41    121\n",
       "47    110\n",
       "69    102\n",
       "64     88\n",
       "52     77\n",
       "53     73\n",
       "50     44\n",
       "78     34\n",
       "Name: age, dtype: int64"
      ]
     },
     "execution_count": 16,
     "metadata": {},
     "output_type": "execute_result"
    }
   ],
   "source": [
    "df.age.value_counts()"
   ]
  },
  {
   "cell_type": "code",
   "execution_count": 17,
   "metadata": {},
   "outputs": [
    {
     "data": {
      "text/html": [
       "<div>\n",
       "<style scoped>\n",
       "    .dataframe tbody tr th:only-of-type {\n",
       "        vertical-align: middle;\n",
       "    }\n",
       "\n",
       "    .dataframe tbody tr th {\n",
       "        vertical-align: top;\n",
       "    }\n",
       "\n",
       "    .dataframe thead th {\n",
       "        text-align: right;\n",
       "    }\n",
       "</style>\n",
       "<table border=\"1\" class=\"dataframe\">\n",
       "  <thead>\n",
       "    <tr style=\"text-align: right;\">\n",
       "      <th></th>\n",
       "      <th>card_present_flag</th>\n",
       "      <th>merchant_code</th>\n",
       "      <th>balance</th>\n",
       "      <th>age</th>\n",
       "      <th>amount</th>\n",
       "    </tr>\n",
       "  </thead>\n",
       "  <tbody>\n",
       "    <tr>\n",
       "      <th>count</th>\n",
       "      <td>7717.000000</td>\n",
       "      <td>883.0</td>\n",
       "      <td>12043.000000</td>\n",
       "      <td>12043.000000</td>\n",
       "      <td>12043.000000</td>\n",
       "    </tr>\n",
       "    <tr>\n",
       "      <th>mean</th>\n",
       "      <td>0.802644</td>\n",
       "      <td>0.0</td>\n",
       "      <td>14704.195553</td>\n",
       "      <td>30.582330</td>\n",
       "      <td>187.933588</td>\n",
       "    </tr>\n",
       "    <tr>\n",
       "      <th>std</th>\n",
       "      <td>0.398029</td>\n",
       "      <td>0.0</td>\n",
       "      <td>31503.722652</td>\n",
       "      <td>10.046343</td>\n",
       "      <td>592.599934</td>\n",
       "    </tr>\n",
       "    <tr>\n",
       "      <th>min</th>\n",
       "      <td>0.000000</td>\n",
       "      <td>0.0</td>\n",
       "      <td>0.240000</td>\n",
       "      <td>18.000000</td>\n",
       "      <td>0.100000</td>\n",
       "    </tr>\n",
       "    <tr>\n",
       "      <th>25%</th>\n",
       "      <td>1.000000</td>\n",
       "      <td>0.0</td>\n",
       "      <td>3158.585000</td>\n",
       "      <td>22.000000</td>\n",
       "      <td>16.000000</td>\n",
       "    </tr>\n",
       "    <tr>\n",
       "      <th>50%</th>\n",
       "      <td>1.000000</td>\n",
       "      <td>0.0</td>\n",
       "      <td>6432.010000</td>\n",
       "      <td>28.000000</td>\n",
       "      <td>29.000000</td>\n",
       "    </tr>\n",
       "    <tr>\n",
       "      <th>75%</th>\n",
       "      <td>1.000000</td>\n",
       "      <td>0.0</td>\n",
       "      <td>12465.945000</td>\n",
       "      <td>38.000000</td>\n",
       "      <td>53.655000</td>\n",
       "    </tr>\n",
       "    <tr>\n",
       "      <th>max</th>\n",
       "      <td>1.000000</td>\n",
       "      <td>0.0</td>\n",
       "      <td>267128.520000</td>\n",
       "      <td>78.000000</td>\n",
       "      <td>8835.980000</td>\n",
       "    </tr>\n",
       "  </tbody>\n",
       "</table>\n",
       "</div>"
      ],
      "text/plain": [
       "       card_present_flag  merchant_code        balance           age  \\\n",
       "count        7717.000000          883.0   12043.000000  12043.000000   \n",
       "mean            0.802644            0.0   14704.195553     30.582330   \n",
       "std             0.398029            0.0   31503.722652     10.046343   \n",
       "min             0.000000            0.0       0.240000     18.000000   \n",
       "25%             1.000000            0.0    3158.585000     22.000000   \n",
       "50%             1.000000            0.0    6432.010000     28.000000   \n",
       "75%             1.000000            0.0   12465.945000     38.000000   \n",
       "max             1.000000            0.0  267128.520000     78.000000   \n",
       "\n",
       "             amount  \n",
       "count  12043.000000  \n",
       "mean     187.933588  \n",
       "std      592.599934  \n",
       "min        0.100000  \n",
       "25%       16.000000  \n",
       "50%       29.000000  \n",
       "75%       53.655000  \n",
       "max     8835.980000  "
      ]
     },
     "execution_count": 17,
     "metadata": {},
     "output_type": "execute_result"
    }
   ],
   "source": [
    "df_clean.describe()"
   ]
  },
  {
   "cell_type": "code",
   "execution_count": 18,
   "metadata": {},
   "outputs": [
    {
     "data": {
      "text/plain": [
       "Timestamp('2018-08-01 00:00:00')"
      ]
     },
     "execution_count": 18,
     "metadata": {},
     "output_type": "execute_result"
    }
   ],
   "source": [
    "df_clean.date.min()"
   ]
  },
  {
   "cell_type": "code",
   "execution_count": 19,
   "metadata": {},
   "outputs": [
    {
     "data": {
      "text/plain": [
       "Timestamp('2018-10-31 00:00:00')"
      ]
     },
     "execution_count": 19,
     "metadata": {},
     "output_type": "execute_result"
    }
   ],
   "source": [
    "df_clean.date.max()"
   ]
  },
  {
   "cell_type": "markdown",
   "metadata": {},
   "source": [
    "## We can create a new column for the month & date to extract exact details & to analyze properly. "
   ]
  },
  {
   "cell_type": "code",
   "execution_count": 20,
   "metadata": {},
   "outputs": [],
   "source": [
    "# extract start month name\n",
    "df_clean['month_name']=df_clean['date'].dt.strftime('%B')"
   ]
  },
  {
   "cell_type": "code",
   "execution_count": 21,
   "metadata": {},
   "outputs": [],
   "source": [
    "# extract weekdays\n",
    "df_clean['weekday']=df_clean['date'].dt.strftime('%a')"
   ]
  },
  {
   "cell_type": "code",
   "execution_count": 22,
   "metadata": {},
   "outputs": [],
   "source": [
    "# extract date from date column\n",
    "df_clean['date_of_trans']=df_clean['date'].dt.day.astype(int)"
   ]
  },
  {
   "cell_type": "code",
   "execution_count": 23,
   "metadata": {},
   "outputs": [
    {
     "data": {
      "text/html": [
       "<div>\n",
       "<style scoped>\n",
       "    .dataframe tbody tr th:only-of-type {\n",
       "        vertical-align: middle;\n",
       "    }\n",
       "\n",
       "    .dataframe tbody tr th {\n",
       "        vertical-align: top;\n",
       "    }\n",
       "\n",
       "    .dataframe thead th {\n",
       "        text-align: right;\n",
       "    }\n",
       "</style>\n",
       "<table border=\"1\" class=\"dataframe\">\n",
       "  <thead>\n",
       "    <tr style=\"text-align: right;\">\n",
       "      <th></th>\n",
       "      <th>status</th>\n",
       "      <th>card_present_flag</th>\n",
       "      <th>bpay_biller_code</th>\n",
       "      <th>account</th>\n",
       "      <th>currency</th>\n",
       "      <th>long_lat</th>\n",
       "      <th>txn_description</th>\n",
       "      <th>merchant_id</th>\n",
       "      <th>merchant_code</th>\n",
       "      <th>first_name</th>\n",
       "      <th>...</th>\n",
       "      <th>extraction</th>\n",
       "      <th>amount</th>\n",
       "      <th>transaction_id</th>\n",
       "      <th>country</th>\n",
       "      <th>customer_id</th>\n",
       "      <th>merchant_long_lat</th>\n",
       "      <th>movement</th>\n",
       "      <th>month_name</th>\n",
       "      <th>weekday</th>\n",
       "      <th>date_of_trans</th>\n",
       "    </tr>\n",
       "  </thead>\n",
       "  <tbody>\n",
       "    <tr>\n",
       "      <th>0</th>\n",
       "      <td>authorized</td>\n",
       "      <td>1.0</td>\n",
       "      <td>NaN</td>\n",
       "      <td>ACC-1598451071</td>\n",
       "      <td>AUD</td>\n",
       "      <td>153.41 -27.95</td>\n",
       "      <td>POS</td>\n",
       "      <td>81c48296-73be-44a7-befa-d053f48ce7cd</td>\n",
       "      <td>NaN</td>\n",
       "      <td>Diana</td>\n",
       "      <td>...</td>\n",
       "      <td>2018-08-01 01:01:15+00:00</td>\n",
       "      <td>16.25</td>\n",
       "      <td>a623070bfead4541a6b0fff8a09e706c</td>\n",
       "      <td>Australia</td>\n",
       "      <td>CUS-2487424745</td>\n",
       "      <td>153.38 -27.99</td>\n",
       "      <td>debit</td>\n",
       "      <td>August</td>\n",
       "      <td>Wed</td>\n",
       "      <td>1</td>\n",
       "    </tr>\n",
       "    <tr>\n",
       "      <th>1</th>\n",
       "      <td>authorized</td>\n",
       "      <td>0.0</td>\n",
       "      <td>NaN</td>\n",
       "      <td>ACC-1598451071</td>\n",
       "      <td>AUD</td>\n",
       "      <td>153.41 -27.95</td>\n",
       "      <td>SALES-POS</td>\n",
       "      <td>830a451c-316e-4a6a-bf25-e37caedca49e</td>\n",
       "      <td>NaN</td>\n",
       "      <td>Diana</td>\n",
       "      <td>...</td>\n",
       "      <td>2018-08-01 01:13:45+00:00</td>\n",
       "      <td>14.19</td>\n",
       "      <td>13270a2a902145da9db4c951e04b51b9</td>\n",
       "      <td>Australia</td>\n",
       "      <td>CUS-2487424745</td>\n",
       "      <td>151.21 -33.87</td>\n",
       "      <td>debit</td>\n",
       "      <td>August</td>\n",
       "      <td>Wed</td>\n",
       "      <td>1</td>\n",
       "    </tr>\n",
       "  </tbody>\n",
       "</table>\n",
       "<p>2 rows × 26 columns</p>\n",
       "</div>"
      ],
      "text/plain": [
       "       status  card_present_flag bpay_biller_code         account currency  \\\n",
       "0  authorized                1.0              NaN  ACC-1598451071      AUD   \n",
       "1  authorized                0.0              NaN  ACC-1598451071      AUD   \n",
       "\n",
       "        long_lat txn_description                           merchant_id  \\\n",
       "0  153.41 -27.95             POS  81c48296-73be-44a7-befa-d053f48ce7cd   \n",
       "1  153.41 -27.95       SALES-POS  830a451c-316e-4a6a-bf25-e37caedca49e   \n",
       "\n",
       "   merchant_code first_name  ...                extraction amount  \\\n",
       "0            NaN      Diana  ... 2018-08-01 01:01:15+00:00  16.25   \n",
       "1            NaN      Diana  ... 2018-08-01 01:13:45+00:00  14.19   \n",
       "\n",
       "                     transaction_id    country     customer_id  \\\n",
       "0  a623070bfead4541a6b0fff8a09e706c  Australia  CUS-2487424745   \n",
       "1  13270a2a902145da9db4c951e04b51b9  Australia  CUS-2487424745   \n",
       "\n",
       "  merchant_long_lat movement  month_name weekday date_of_trans  \n",
       "0     153.38 -27.99    debit      August     Wed             1  \n",
       "1     151.21 -33.87    debit      August     Wed             1  \n",
       "\n",
       "[2 rows x 26 columns]"
      ]
     },
     "execution_count": 23,
     "metadata": {},
     "output_type": "execute_result"
    }
   ],
   "source": [
    "df_clean.head(2)"
   ]
  },
  {
   "cell_type": "code",
   "execution_count": 24,
   "metadata": {},
   "outputs": [
    {
     "data": {
      "text/plain": [
       "October      4087\n",
       "September    4013\n",
       "August       3943\n",
       "Name: month_name, dtype: int64"
      ]
     },
     "execution_count": 24,
     "metadata": {},
     "output_type": "execute_result"
    }
   ],
   "source": [
    "df_clean.month_name.value_counts()"
   ]
  },
  {
   "cell_type": "code",
   "execution_count": 25,
   "metadata": {},
   "outputs": [
    {
     "data": {
      "text/plain": [
       "4014.3333333333335"
      ]
     },
     "execution_count": 25,
     "metadata": {},
     "output_type": "execute_result"
    }
   ],
   "source": [
    "# From the above we can see that there are only three months included for puchasing\n",
    "len(df_clean.date)/3"
   ]
  },
  {
   "cell_type": "code",
   "execution_count": 26,
   "metadata": {},
   "outputs": [
    {
     "data": {
      "text/plain": [
       "17    446\n",
       "28    445\n",
       "3     426\n",
       "19    424\n",
       "26    422\n",
       "5     417\n",
       "14    416\n",
       "12    412\n",
       "18    412\n",
       "21    411\n",
       "27    409\n",
       "2     405\n",
       "24    405\n",
       "4     402\n",
       "10    400\n",
       "22    399\n",
       "13    395\n",
       "11    394\n",
       "25    388\n",
       "15    383\n",
       "9     382\n",
       "6     381\n",
       "1     377\n",
       "29    372\n",
       "7     371\n",
       "20    369\n",
       "8     365\n",
       "23    362\n",
       "30    339\n",
       "31    294\n",
       "16    220\n",
       "Name: date_of_trans, dtype: int64"
      ]
     },
     "execution_count": 26,
     "metadata": {},
     "output_type": "execute_result"
    }
   ],
   "source": [
    "df_clean.date_of_trans.value_counts()"
   ]
  },
  {
   "cell_type": "code",
   "execution_count": 27,
   "metadata": {},
   "outputs": [
    {
     "data": {
      "text/html": [
       "<div>\n",
       "<style scoped>\n",
       "    .dataframe tbody tr th:only-of-type {\n",
       "        vertical-align: middle;\n",
       "    }\n",
       "\n",
       "    .dataframe tbody tr th {\n",
       "        vertical-align: top;\n",
       "    }\n",
       "\n",
       "    .dataframe thead th {\n",
       "        text-align: right;\n",
       "    }\n",
       "</style>\n",
       "<table border=\"1\" class=\"dataframe\">\n",
       "  <thead>\n",
       "    <tr style=\"text-align: right;\">\n",
       "      <th></th>\n",
       "      <th>status</th>\n",
       "      <th>card_present_flag</th>\n",
       "      <th>bpay_biller_code</th>\n",
       "      <th>account</th>\n",
       "      <th>currency</th>\n",
       "      <th>long_lat</th>\n",
       "      <th>txn_description</th>\n",
       "      <th>merchant_id</th>\n",
       "      <th>merchant_code</th>\n",
       "      <th>first_name</th>\n",
       "      <th>...</th>\n",
       "      <th>extraction</th>\n",
       "      <th>amount</th>\n",
       "      <th>transaction_id</th>\n",
       "      <th>country</th>\n",
       "      <th>customer_id</th>\n",
       "      <th>merchant_long_lat</th>\n",
       "      <th>movement</th>\n",
       "      <th>month_name</th>\n",
       "      <th>weekday</th>\n",
       "      <th>date_of_trans</th>\n",
       "    </tr>\n",
       "  </thead>\n",
       "  <tbody>\n",
       "    <tr>\n",
       "      <th>1923</th>\n",
       "      <td>authorized</td>\n",
       "      <td>1.0</td>\n",
       "      <td>NaN</td>\n",
       "      <td>ACC-602667573</td>\n",
       "      <td>AUD</td>\n",
       "      <td>151.23 -33.96</td>\n",
       "      <td>SALES-POS</td>\n",
       "      <td>7136175d-4f8a-466f-83fd-36705ceb8cf6</td>\n",
       "      <td>NaN</td>\n",
       "      <td>Michael</td>\n",
       "      <td>...</td>\n",
       "      <td>2018-08-17 00:01:14+00:00</td>\n",
       "      <td>10.25</td>\n",
       "      <td>b3111c17a96347c6949081ce303419cf</td>\n",
       "      <td>Australia</td>\n",
       "      <td>CUS-2031327464</td>\n",
       "      <td>151.23 -33.92</td>\n",
       "      <td>debit</td>\n",
       "      <td>August</td>\n",
       "      <td>Fri</td>\n",
       "      <td>17</td>\n",
       "    </tr>\n",
       "    <tr>\n",
       "      <th>1924</th>\n",
       "      <td>authorized</td>\n",
       "      <td>0.0</td>\n",
       "      <td>NaN</td>\n",
       "      <td>ACC-2615038700</td>\n",
       "      <td>AUD</td>\n",
       "      <td>145.35 -38.03</td>\n",
       "      <td>SALES-POS</td>\n",
       "      <td>c287e5be-17a3-49ad-80ef-3bd295033671</td>\n",
       "      <td>NaN</td>\n",
       "      <td>Emily</td>\n",
       "      <td>...</td>\n",
       "      <td>2018-08-17 00:22:04+00:00</td>\n",
       "      <td>64.50</td>\n",
       "      <td>e8a510baaa0646b2987c4d3bcf76fb5a</td>\n",
       "      <td>Australia</td>\n",
       "      <td>CUS-3255104878</td>\n",
       "      <td>143.87 -37.58</td>\n",
       "      <td>debit</td>\n",
       "      <td>August</td>\n",
       "      <td>Fri</td>\n",
       "      <td>17</td>\n",
       "    </tr>\n",
       "    <tr>\n",
       "      <th>1925</th>\n",
       "      <td>authorized</td>\n",
       "      <td>1.0</td>\n",
       "      <td>NaN</td>\n",
       "      <td>ACC-3536132544</td>\n",
       "      <td>AUD</td>\n",
       "      <td>144.93 -37.79</td>\n",
       "      <td>SALES-POS</td>\n",
       "      <td>bce20df2-d87c-40b3-b4b3-0b01d1e7a902</td>\n",
       "      <td>NaN</td>\n",
       "      <td>Heather</td>\n",
       "      <td>...</td>\n",
       "      <td>2018-08-17 00:42:54+00:00</td>\n",
       "      <td>45.63</td>\n",
       "      <td>5a2c2dbe2c76486a82fdad847bc1fc46</td>\n",
       "      <td>Australia</td>\n",
       "      <td>CUS-2348881191</td>\n",
       "      <td>143.84 -37.6</td>\n",
       "      <td>debit</td>\n",
       "      <td>August</td>\n",
       "      <td>Fri</td>\n",
       "      <td>17</td>\n",
       "    </tr>\n",
       "    <tr>\n",
       "      <th>1926</th>\n",
       "      <td>authorized</td>\n",
       "      <td>1.0</td>\n",
       "      <td>NaN</td>\n",
       "      <td>ACC-1598451071</td>\n",
       "      <td>AUD</td>\n",
       "      <td>153.41 -27.95</td>\n",
       "      <td>SALES-POS</td>\n",
       "      <td>b41dff2b-f395-418f-a84c-373dcb9f10de</td>\n",
       "      <td>NaN</td>\n",
       "      <td>Diana</td>\n",
       "      <td>...</td>\n",
       "      <td>2018-08-17 01:03:12+00:00</td>\n",
       "      <td>35.91</td>\n",
       "      <td>a45eaf1a5de04eaa9f6cc4d93c5cc47a</td>\n",
       "      <td>Australia</td>\n",
       "      <td>CUS-2487424745</td>\n",
       "      <td>153.58 -28.26</td>\n",
       "      <td>debit</td>\n",
       "      <td>August</td>\n",
       "      <td>Fri</td>\n",
       "      <td>17</td>\n",
       "    </tr>\n",
       "    <tr>\n",
       "      <th>1927</th>\n",
       "      <td>authorized</td>\n",
       "      <td>1.0</td>\n",
       "      <td>NaN</td>\n",
       "      <td>ACC-1598451071</td>\n",
       "      <td>AUD</td>\n",
       "      <td>153.41 -27.95</td>\n",
       "      <td>POS</td>\n",
       "      <td>10a7f6e6-cf60-4c99-8021-004293e7509f</td>\n",
       "      <td>NaN</td>\n",
       "      <td>Diana</td>\n",
       "      <td>...</td>\n",
       "      <td>2018-08-17 01:21:04+00:00</td>\n",
       "      <td>5.12</td>\n",
       "      <td>e7fe8f38e72143289e28c417b1b72a4b</td>\n",
       "      <td>Australia</td>\n",
       "      <td>CUS-2487424745</td>\n",
       "      <td>153.06 -27.49</td>\n",
       "      <td>debit</td>\n",
       "      <td>August</td>\n",
       "      <td>Fri</td>\n",
       "      <td>17</td>\n",
       "    </tr>\n",
       "    <tr>\n",
       "      <th>...</th>\n",
       "      <td>...</td>\n",
       "      <td>...</td>\n",
       "      <td>...</td>\n",
       "      <td>...</td>\n",
       "      <td>...</td>\n",
       "      <td>...</td>\n",
       "      <td>...</td>\n",
       "      <td>...</td>\n",
       "      <td>...</td>\n",
       "      <td>...</td>\n",
       "      <td>...</td>\n",
       "      <td>...</td>\n",
       "      <td>...</td>\n",
       "      <td>...</td>\n",
       "      <td>...</td>\n",
       "      <td>...</td>\n",
       "      <td>...</td>\n",
       "      <td>...</td>\n",
       "      <td>...</td>\n",
       "      <td>...</td>\n",
       "      <td>...</td>\n",
       "    </tr>\n",
       "    <tr>\n",
       "      <th>10204</th>\n",
       "      <td>posted</td>\n",
       "      <td>NaN</td>\n",
       "      <td>NaN</td>\n",
       "      <td>ACC-240804743</td>\n",
       "      <td>AUD</td>\n",
       "      <td>121.48 -30.75</td>\n",
       "      <td>PAYMENT</td>\n",
       "      <td>NaN</td>\n",
       "      <td>NaN</td>\n",
       "      <td>Kenneth</td>\n",
       "      <td>...</td>\n",
       "      <td>2018-10-17 23:00:00+00:00</td>\n",
       "      <td>39.00</td>\n",
       "      <td>73c1349b59724a0fa52590fd2924e475</td>\n",
       "      <td>Australia</td>\n",
       "      <td>CUS-261674136</td>\n",
       "      <td>NaN</td>\n",
       "      <td>debit</td>\n",
       "      <td>October</td>\n",
       "      <td>Wed</td>\n",
       "      <td>17</td>\n",
       "    </tr>\n",
       "    <tr>\n",
       "      <th>10205</th>\n",
       "      <td>posted</td>\n",
       "      <td>NaN</td>\n",
       "      <td>NaN</td>\n",
       "      <td>ACC-182446574</td>\n",
       "      <td>AUD</td>\n",
       "      <td>116.06 -32.00</td>\n",
       "      <td>INTER BANK</td>\n",
       "      <td>NaN</td>\n",
       "      <td>NaN</td>\n",
       "      <td>Tonya</td>\n",
       "      <td>...</td>\n",
       "      <td>2018-10-17 23:00:00+00:00</td>\n",
       "      <td>152.00</td>\n",
       "      <td>441062835a75426183207d2429176dc6</td>\n",
       "      <td>Australia</td>\n",
       "      <td>CUS-3026014945</td>\n",
       "      <td>NaN</td>\n",
       "      <td>debit</td>\n",
       "      <td>October</td>\n",
       "      <td>Wed</td>\n",
       "      <td>17</td>\n",
       "    </tr>\n",
       "    <tr>\n",
       "      <th>10206</th>\n",
       "      <td>authorized</td>\n",
       "      <td>1.0</td>\n",
       "      <td>NaN</td>\n",
       "      <td>ACC-1598451071</td>\n",
       "      <td>AUD</td>\n",
       "      <td>153.41 -27.95</td>\n",
       "      <td>SALES-POS</td>\n",
       "      <td>79632a30-4507-43e8-b301-e4166dc24eb3</td>\n",
       "      <td>NaN</td>\n",
       "      <td>Diana</td>\n",
       "      <td>...</td>\n",
       "      <td>2018-10-17 23:05:39+00:00</td>\n",
       "      <td>5.77</td>\n",
       "      <td>c52153c88e004907b805b3f2b5d9b350</td>\n",
       "      <td>Australia</td>\n",
       "      <td>CUS-2487424745</td>\n",
       "      <td>153.43 -28.03</td>\n",
       "      <td>debit</td>\n",
       "      <td>October</td>\n",
       "      <td>Wed</td>\n",
       "      <td>17</td>\n",
       "    </tr>\n",
       "    <tr>\n",
       "      <th>10207</th>\n",
       "      <td>authorized</td>\n",
       "      <td>1.0</td>\n",
       "      <td>NaN</td>\n",
       "      <td>ACC-2890243754</td>\n",
       "      <td>AUD</td>\n",
       "      <td>153.32 -27.93</td>\n",
       "      <td>POS</td>\n",
       "      <td>3647e656-341b-4fc7-b46e-d4b5fd2c93d4</td>\n",
       "      <td>NaN</td>\n",
       "      <td>Joseph</td>\n",
       "      <td>...</td>\n",
       "      <td>2018-10-17 23:27:23+00:00</td>\n",
       "      <td>69.72</td>\n",
       "      <td>0a8be849024f4aac9f77d0313deb13c9</td>\n",
       "      <td>Australia</td>\n",
       "      <td>CUS-2695611575</td>\n",
       "      <td>151.2 -33.9</td>\n",
       "      <td>debit</td>\n",
       "      <td>October</td>\n",
       "      <td>Wed</td>\n",
       "      <td>17</td>\n",
       "    </tr>\n",
       "    <tr>\n",
       "      <th>10208</th>\n",
       "      <td>authorized</td>\n",
       "      <td>0.0</td>\n",
       "      <td>NaN</td>\n",
       "      <td>ACC-1598451071</td>\n",
       "      <td>AUD</td>\n",
       "      <td>153.41 -27.95</td>\n",
       "      <td>POS</td>\n",
       "      <td>023f7601-2795-4081-9ffe-3199ee4b49c2</td>\n",
       "      <td>NaN</td>\n",
       "      <td>Diana</td>\n",
       "      <td>...</td>\n",
       "      <td>2018-10-17 23:49:07+00:00</td>\n",
       "      <td>4.92</td>\n",
       "      <td>203545caaf4b4d14983e0c4f541213d2</td>\n",
       "      <td>Australia</td>\n",
       "      <td>CUS-2487424745</td>\n",
       "      <td>153.4 -27.91</td>\n",
       "      <td>debit</td>\n",
       "      <td>October</td>\n",
       "      <td>Wed</td>\n",
       "      <td>17</td>\n",
       "    </tr>\n",
       "  </tbody>\n",
       "</table>\n",
       "<p>446 rows × 26 columns</p>\n",
       "</div>"
      ],
      "text/plain": [
       "           status  card_present_flag bpay_biller_code         account  \\\n",
       "1923   authorized                1.0              NaN   ACC-602667573   \n",
       "1924   authorized                0.0              NaN  ACC-2615038700   \n",
       "1925   authorized                1.0              NaN  ACC-3536132544   \n",
       "1926   authorized                1.0              NaN  ACC-1598451071   \n",
       "1927   authorized                1.0              NaN  ACC-1598451071   \n",
       "...           ...                ...              ...             ...   \n",
       "10204      posted                NaN              NaN   ACC-240804743   \n",
       "10205      posted                NaN              NaN   ACC-182446574   \n",
       "10206  authorized                1.0              NaN  ACC-1598451071   \n",
       "10207  authorized                1.0              NaN  ACC-2890243754   \n",
       "10208  authorized                0.0              NaN  ACC-1598451071   \n",
       "\n",
       "      currency       long_lat txn_description  \\\n",
       "1923       AUD  151.23 -33.96       SALES-POS   \n",
       "1924       AUD  145.35 -38.03       SALES-POS   \n",
       "1925       AUD  144.93 -37.79       SALES-POS   \n",
       "1926       AUD  153.41 -27.95       SALES-POS   \n",
       "1927       AUD  153.41 -27.95             POS   \n",
       "...        ...            ...             ...   \n",
       "10204      AUD  121.48 -30.75         PAYMENT   \n",
       "10205      AUD  116.06 -32.00      INTER BANK   \n",
       "10206      AUD  153.41 -27.95       SALES-POS   \n",
       "10207      AUD  153.32 -27.93             POS   \n",
       "10208      AUD  153.41 -27.95             POS   \n",
       "\n",
       "                                merchant_id  merchant_code first_name  ...  \\\n",
       "1923   7136175d-4f8a-466f-83fd-36705ceb8cf6            NaN    Michael  ...   \n",
       "1924   c287e5be-17a3-49ad-80ef-3bd295033671            NaN      Emily  ...   \n",
       "1925   bce20df2-d87c-40b3-b4b3-0b01d1e7a902            NaN    Heather  ...   \n",
       "1926   b41dff2b-f395-418f-a84c-373dcb9f10de            NaN      Diana  ...   \n",
       "1927   10a7f6e6-cf60-4c99-8021-004293e7509f            NaN      Diana  ...   \n",
       "...                                     ...            ...        ...  ...   \n",
       "10204                                   NaN            NaN    Kenneth  ...   \n",
       "10205                                   NaN            NaN      Tonya  ...   \n",
       "10206  79632a30-4507-43e8-b301-e4166dc24eb3            NaN      Diana  ...   \n",
       "10207  3647e656-341b-4fc7-b46e-d4b5fd2c93d4            NaN     Joseph  ...   \n",
       "10208  023f7601-2795-4081-9ffe-3199ee4b49c2            NaN      Diana  ...   \n",
       "\n",
       "                     extraction  amount                    transaction_id  \\\n",
       "1923  2018-08-17 00:01:14+00:00   10.25  b3111c17a96347c6949081ce303419cf   \n",
       "1924  2018-08-17 00:22:04+00:00   64.50  e8a510baaa0646b2987c4d3bcf76fb5a   \n",
       "1925  2018-08-17 00:42:54+00:00   45.63  5a2c2dbe2c76486a82fdad847bc1fc46   \n",
       "1926  2018-08-17 01:03:12+00:00   35.91  a45eaf1a5de04eaa9f6cc4d93c5cc47a   \n",
       "1927  2018-08-17 01:21:04+00:00    5.12  e7fe8f38e72143289e28c417b1b72a4b   \n",
       "...                         ...     ...                               ...   \n",
       "10204 2018-10-17 23:00:00+00:00   39.00  73c1349b59724a0fa52590fd2924e475   \n",
       "10205 2018-10-17 23:00:00+00:00  152.00  441062835a75426183207d2429176dc6   \n",
       "10206 2018-10-17 23:05:39+00:00    5.77  c52153c88e004907b805b3f2b5d9b350   \n",
       "10207 2018-10-17 23:27:23+00:00   69.72  0a8be849024f4aac9f77d0313deb13c9   \n",
       "10208 2018-10-17 23:49:07+00:00    4.92  203545caaf4b4d14983e0c4f541213d2   \n",
       "\n",
       "         country     customer_id merchant_long_lat movement  month_name  \\\n",
       "1923   Australia  CUS-2031327464     151.23 -33.92    debit      August   \n",
       "1924   Australia  CUS-3255104878     143.87 -37.58    debit      August   \n",
       "1925   Australia  CUS-2348881191      143.84 -37.6    debit      August   \n",
       "1926   Australia  CUS-2487424745     153.58 -28.26    debit      August   \n",
       "1927   Australia  CUS-2487424745     153.06 -27.49    debit      August   \n",
       "...          ...             ...               ...      ...         ...   \n",
       "10204  Australia   CUS-261674136               NaN    debit     October   \n",
       "10205  Australia  CUS-3026014945               NaN    debit     October   \n",
       "10206  Australia  CUS-2487424745     153.43 -28.03    debit     October   \n",
       "10207  Australia  CUS-2695611575       151.2 -33.9    debit     October   \n",
       "10208  Australia  CUS-2487424745      153.4 -27.91    debit     October   \n",
       "\n",
       "      weekday date_of_trans  \n",
       "1923      Fri            17  \n",
       "1924      Fri            17  \n",
       "1925      Fri            17  \n",
       "1926      Fri            17  \n",
       "1927      Fri            17  \n",
       "...       ...           ...  \n",
       "10204     Wed            17  \n",
       "10205     Wed            17  \n",
       "10206     Wed            17  \n",
       "10207     Wed            17  \n",
       "10208     Wed            17  \n",
       "\n",
       "[446 rows x 26 columns]"
      ]
     },
     "execution_count": 27,
     "metadata": {},
     "output_type": "execute_result"
    }
   ],
   "source": [
    "# Segment of dataset for the date of 17\n",
    "df_clean[df_clean['date_of_trans']==17]"
   ]
  },
  {
   "cell_type": "code",
   "execution_count": 28,
   "metadata": {},
   "outputs": [
    {
     "data": {
      "text/plain": [
       "108962.29000000001"
      ]
     },
     "execution_count": 28,
     "metadata": {},
     "output_type": "execute_result"
    }
   ],
   "source": [
    "# total amount of transaction done on 17th of every month\n",
    "df_clean[df_clean['date_of_trans']==17].amount.sum()"
   ]
  },
  {
   "cell_type": "code",
   "execution_count": 29,
   "metadata": {},
   "outputs": [
    {
     "data": {
      "text/plain": [
       "244.310067264574"
      ]
     },
     "execution_count": 29,
     "metadata": {},
     "output_type": "execute_result"
    }
   ],
   "source": [
    "# avg. amount of transaction on 17th\n",
    "df_clean[df_clean['date_of_trans']==17].amount.sum()/len(df_clean[df_clean['date_of_trans']==17])"
   ]
  },
  {
   "cell_type": "code",
   "execution_count": 30,
   "metadata": {},
   "outputs": [
    {
     "data": {
      "text/plain": [
       "4405.3"
      ]
     },
     "execution_count": 30,
     "metadata": {},
     "output_type": "execute_result"
    }
   ],
   "source": [
    "#cheacking for outliers\n",
    "df_clean[df_clean['date_of_trans']==17].amount.max()"
   ]
  },
  {
   "cell_type": "code",
   "execution_count": 31,
   "metadata": {},
   "outputs": [
    {
     "data": {
      "text/plain": [
       "count     446.000000\n",
       "mean      244.310067\n",
       "std       666.309631\n",
       "min         2.630000\n",
       "25%        17.175000\n",
       "50%        35.190000\n",
       "75%        83.000000\n",
       "max      4405.300000\n",
       "Name: amount, dtype: float64"
      ]
     },
     "execution_count": 31,
     "metadata": {},
     "output_type": "execute_result"
    }
   ],
   "source": [
    "df_clean[df_clean['date_of_trans']==17].amount.describe()"
   ]
  },
  {
   "cell_type": "code",
   "execution_count": 32,
   "metadata": {},
   "outputs": [
    {
     "name": "stderr",
     "output_type": "stream",
     "text": [
      "F:\\anaconda\\lib\\site-packages\\ipykernel_launcher.py:3: RuntimeWarning: invalid value encountered in double_scalars\n",
      "  This is separate from the ipykernel package so we can avoid doing imports until\n"
     ]
    },
    {
     "name": "stdout",
     "output_type": "stream",
     "text": [
      "nan\n",
      "205.7078514588859\n",
      "131.04595061728395\n",
      "243.65035211267607\n",
      "151.30766169154228\n",
      "161.95817745803356\n",
      "222.2563254593176\n",
      "213.26935309973044\n",
      "172.9601095890411\n",
      "154.96468586387434\n",
      "234.1082\n",
      "125.06119289340101\n",
      "193.68111650485434\n",
      "162.37653164556963\n",
      "183.3983894230769\n",
      "246.80895561357704\n",
      "132.6362727272727\n",
      "244.310067264574\n",
      "185.53759708737863\n",
      "189.91259433962264\n",
      "245.79035230352306\n",
      "173.96080291970802\n",
      "169.7264411027569\n",
      "187.89944751381216\n",
      "263.76518518518515\n",
      "129.84664948453607\n",
      "219.03604265402845\n",
      "150.55738386308067\n",
      "154.46743820224717\n",
      "205.7265053763441\n",
      "144.29300884955754\n",
      "198.14877551020408\n"
     ]
    }
   ],
   "source": [
    "#average amount of transaction on every date\n",
    "for y in range(32):\n",
    "    ab=df_clean[df_clean['date_of_trans']==y].amount.sum()/len(df_clean[df_clean['date_of_trans']==y])\n",
    "    print(ab)\n"
   ]
  },
  {
   "cell_type": "code",
   "execution_count": 33,
   "metadata": {},
   "outputs": [
    {
     "data": {
      "text/plain": [
       "False    11996\n",
       "True        47\n",
       "Name: amount, dtype: int64"
      ]
     },
     "execution_count": 33,
     "metadata": {},
     "output_type": "execute_result"
    }
   ],
   "source": [
    "# checking for outliers in amount\n",
    "(df_clean.amount>4000).value_counts()"
   ]
  },
  {
   "cell_type": "markdown",
   "metadata": {},
   "source": [
    "There are around 47 outliers which can bend the amount avg. to them."
   ]
  },
  {
   "cell_type": "code",
   "execution_count": 34,
   "metadata": {
    "scrolled": true
   },
   "outputs": [
    {
     "data": {
      "text/plain": [
       "count    12043.000000\n",
       "mean       187.933588\n",
       "std        592.599934\n",
       "min          0.100000\n",
       "25%         16.000000\n",
       "50%         29.000000\n",
       "75%         53.655000\n",
       "max       8835.980000\n",
       "Name: amount, dtype: float64"
      ]
     },
     "execution_count": 34,
     "metadata": {},
     "output_type": "execute_result"
    }
   ],
   "source": [
    "df_clean.amount.describe()"
   ]
  },
  {
   "cell_type": "code",
   "execution_count": 41,
   "metadata": {},
   "outputs": [],
   "source": [
    "# ordering days in proper manner.\n",
    "df_clean['weekday'] = pd.Categorical(df_clean['weekday'], \n",
    "                                                categories=['Mon','Tue','Wed','Thu','Fri','Sat', 'Sun'], \n",
    "                                                ordered=True)"
   ]
  },
  {
   "cell_type": "code",
   "execution_count": 43,
   "metadata": {
    "scrolled": true
   },
   "outputs": [
    {
     "data": {
      "image/png": "[encoded data removed]",
      "text/plain": [
       "<Figure size 576x432 with 1 Axes>"
      ]
     },
     "metadata": {
      "needs_background": "light"
     },
     "output_type": "display_data"
    }
   ],
   "source": [
    "# Bar graph for the no. of transaction occured on particular days\n",
    "plt.rcParams['figure.figsize'] = 8, 6\n",
    "base_color = sb.color_palette('colorblind')[0]\n",
    "\n",
    "sb.countplot(data=df_clean, x='weekday', color=base_color);\n",
    "plt.xlabel('Days');\n",
    "plt.ylabel('Count');\n",
    "plt.suptitle('Day wise transaction', fontsize=14, fontweight='semibold');"
   ]
  },
  {
   "cell_type": "code",
   "execution_count": 80,
   "metadata": {},
   "outputs": [
    {
     "data": {
      "image/png": "[encoded data removed]",
      "text/plain": [
       "<Figure size 432x288 with 1 Axes>"
      ]
     },
     "metadata": {
      "needs_background": "light"
     },
     "output_type": "display_data"
    }
   ],
   "source": [
    "# Bar graph for the no. of transaction occured on particular months\n",
    "plt.rcParams['figure.figsize'] = 6, 4\n",
    "base_color = sb.color_palette('colorblind')[0]\n",
    "\n",
    "sb.countplot(data=df_clean, x='month_name', color=base_color);\n",
    "plt.xlabel('month_name');\n",
    "plt.ylabel('Count');\n",
    "plt.suptitle('Month wise transaction', fontsize=14, fontweight='semibold');"
   ]
  },
  {
   "cell_type": "code",
   "execution_count": 83,
   "metadata": {},
   "outputs": [
    {
     "data": {
      "image/png": "[encoded data removed]",
      "text/plain": [
       "<Figure size 720x432 with 1 Axes>"
      ]
     },
     "metadata": {
      "needs_background": "light"
     },
     "output_type": "display_data"
    }
   ],
   "source": [
    "# Bar graph for the no. of transaction occured as per gender\n",
    "plt.rcParams['figure.figsize'] = 10, 6\n",
    "base_color = sb.color_palette('colorblind')[0]\n",
    "\n",
    "sb.countplot(data=df_clean, x='gender', color=base_color);\n",
    "plt.xlabel('Days');\n",
    "plt.ylabel('Count');\n",
    "plt.suptitle('Gender wise transaction', fontsize=14, fontweight='semibold');"
   ]
  },
  {
   "cell_type": "code",
   "execution_count": 86,
   "metadata": {},
   "outputs": [
    {
     "data": {
      "image/png": "[encoded data removed]",
      "text/plain": [
       "<Figure size 1440x720 with 2 Axes>"
      ]
     },
     "metadata": {
      "needs_background": "light"
     },
     "output_type": "display_data"
    }
   ],
   "source": [
    "# from the below graph we can see that there some ouliers present in amount which can bend avg. value.\n",
    "plt.rcParams['figure.figsize'] = 20, 10\n",
    "plt.hist2d(data=df_clean,x='amount',y='date_of_trans',cmin=0.5,cmap='viridis_r');\n",
    "plt.colorbar();\n",
    "plt.xlabel('amount');\n",
    "plt.ylabel('date');\n",
    "plt.title('amount vs dates');"
   ]
  },
  {
   "cell_type": "code",
   "execution_count": null,
   "metadata": {},
   "outputs": [],
   "source": []
  }
 ],
 "metadata": {
  "kernelspec": {
   "display_name": "Python 3",
   "language": "python",
   "name": "python3"
  },
  "language_info": {
   "codemirror_mode": {
    "name": "ipython",
    "version": 3
   },
   "file_extension": ".py",
   "mimetype": "text/x-python",
   "name": "python",
   "nbconvert_exporter": "python",
   "pygments_lexer": "ipython3",
   "version": "3.7.6"
  }
 },
 "nbformat": 4,
 "nbformat_minor": 4
}
